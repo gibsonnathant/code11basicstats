{
 "cells": [
  {
   "cell_type": "code",
   "execution_count": 1,
   "id": "6db15262",
   "metadata": {},
   "outputs": [
    {
     "name": "stdout",
     "output_type": "stream",
     "text": [
      "/Users/nathangibson\n"
     ]
    }
   ],
   "source": [
    "# check working directory\n",
    "import os\n",
    "import pandas as pd\n",
    "\n",
    "current_directory = os.getcwd()\n",
    "print(current_directory)"
   ]
  },
  {
   "cell_type": "code",
   "execution_count": 2,
   "id": "f0d52160",
   "metadata": {},
   "outputs": [],
   "source": [
    "# change working directory\n",
    "new_directory_path = r'/Users/nathangibson/Downloads'\n",
    "os.chdir(new_directory_path)"
   ]
  },
  {
   "cell_type": "code",
   "execution_count": 3,
   "id": "dc66d5ca",
   "metadata": {},
   "outputs": [
    {
     "name": "stdout",
     "output_type": "stream",
     "text": [
      "/Users/nathangibson/Downloads\n"
     ]
    }
   ],
   "source": [
    "updated_dir = os.getcwd()\n",
    "print(updated_dir)"
   ]
  },
  {
   "cell_type": "code",
   "execution_count": 5,
   "id": "3b895462",
   "metadata": {},
   "outputs": [
    {
     "name": "stdout",
     "output_type": "stream",
     "text": [
      "Name, Age, Gender, BloodPressure, Temperature\n",
      "John Doe, 45, Male, 120/80, 36.8\n",
      "Jane Smith, 32, Female, 130/85, 37.2\n",
      "Alice Johnson, 50, Female, 140/90, 36.5\n",
      "Michael Brown, 55, Male, 135/82, 37.0\n",
      "Emily Wilson, 40, Female, 125/78, 36.9\n"
     ]
    }
   ],
   "source": [
    "file_path = 'Week13Assignment.txt'\n",
    "\n",
    "try:\n",
    "    with open(file_path, 'r') as file:\n",
    "        content = file.read()\n",
    "        print(content)\n",
    "except FileNotFoundError:\n",
    "    print(f\"File '{file_path}' not found.\")\n",
    "except IOError:\n",
    "    print(\"An error occured while reading the file.\")"
   ]
  },
  {
   "cell_type": "code",
   "execution_count": 6,
   "id": "05f76d56",
   "metadata": {},
   "outputs": [],
   "source": [
    "# average age of patients\n",
    "df = pd.read_csv(file_path)"
   ]
  },
  {
   "cell_type": "code",
   "execution_count": 7,
   "id": "e083b688",
   "metadata": {},
   "outputs": [
    {
     "name": "stdout",
     "output_type": "stream",
     "text": [
      "            Name   Age   Gender  BloodPressure   Temperature\n",
      "0       John Doe    45     Male         120/80          36.8\n",
      "1     Jane Smith    32   Female         130/85          37.2\n",
      "2  Alice Johnson    50   Female         140/90          36.5\n",
      "3  Michael Brown    55     Male         135/82          37.0\n",
      "4   Emily Wilson    40   Female         125/78          36.9\n"
     ]
    }
   ],
   "source": [
    "print(df)"
   ]
  },
  {
   "cell_type": "code",
   "execution_count": 8,
   "id": "e47b430d",
   "metadata": {},
   "outputs": [
    {
     "name": "stdout",
     "output_type": "stream",
     "text": [
      "Index(['Name', ' Age', ' Gender', ' BloodPressure', ' Temperature'], dtype='object')\n"
     ]
    }
   ],
   "source": [
    "print(df.columns)"
   ]
  },
  {
   "cell_type": "code",
   "execution_count": 17,
   "id": "4fd21d87",
   "metadata": {},
   "outputs": [
    {
     "name": "stdout",
     "output_type": "stream",
     "text": [
      "Patient Data Basic Statistics:\n",
      "Average Age of Patients: 44.4\n",
      "Number of Male Patients: 2\n",
      "Number of Female Patients: 3\n",
      "Highest Blood Pressure: 140/90\n",
      "Lowest Blood Pressure: 120/80\n",
      "Average Temperature: 36.88\n"
     ]
    }
   ],
   "source": [
    "print('Patient Data Basic Statistics:')\n",
    "\n",
    "# average age\n",
    "avg_age = df[' Age'].mean()\n",
    "print(f'Average Age of Patients: {avg_age}')\n",
    "\n",
    "# number of male and female patients\n",
    "male = (df[' Gender'] == ' Male').sum()\n",
    "female = (df[' Gender'] == ' Female').sum()\n",
    "print(f'Number of Male Patients: {male}\\nNumber of Female Patients: {female}')\n",
    "\n",
    "# get the highest blood pressure\n",
    "max_bp = max(df[' BloodPressure'])\n",
    "print(f'Highest Blood Pressure:{max_bp}')\n",
    "\n",
    "# lowest blood pressure\n",
    "min_bp = min(df[' BloodPressure'])\n",
    "print(f'Lowest Blood Pressure:{min_bp}')\n",
    "\n",
    "# average temp\n",
    "avg_temp = df[' Temperature'].mean()\n",
    "print(f'Average Temperature: {avg_temp}')"
   ]
  },
  {
   "cell_type": "code",
   "execution_count": null,
   "id": "be94aa21",
   "metadata": {},
   "outputs": [],
   "source": []
  }
 ],
 "metadata": {
  "kernelspec": {
   "display_name": "Python 3 (ipykernel)",
   "language": "python",
   "name": "python3"
  },
  "language_info": {
   "codemirror_mode": {
    "name": "ipython",
    "version": 3
   },
   "file_extension": ".py",
   "mimetype": "text/x-python",
   "name": "python",
   "nbconvert_exporter": "python",
   "pygments_lexer": "ipython3",
   "version": "3.10.9"
  }
 },
 "nbformat": 4,
 "nbformat_minor": 5
}
