{
 "cells": [
  {
   "cell_type": "code",
   "execution_count": 1,
   "id": "8d43fb06",
   "metadata": {},
   "outputs": [
    {
     "name": "stdout",
     "output_type": "stream",
     "text": [
      "/Users/nathangibson\n"
     ]
    }
   ],
   "source": [
    "# check working directory\n",
    "import os\n",
    "import pandas as pd\n",
    "\n",
    "current_directory = os.getcwd()\n",
    "print(current_directory)"
   ]
  },
  {
   "cell_type": "code",
   "execution_count": 2,
   "id": "861beba2",
   "metadata": {},
   "outputs": [],
   "source": [
    "# change working directory\n",
    "new_directory_path = r'/Users/nathangibson/Downloads'\n",
    "os.chdir(new_directory_path)"
   ]
  },
  {
   "cell_type": "code",
   "execution_count": 3,
   "id": "289a5a8d",
   "metadata": {},
   "outputs": [
    {
     "name": "stdout",
     "output_type": "stream",
     "text": [
      "/Users/nathangibson/Downloads\n"
     ]
    }
   ],
   "source": [
    "updated_dir = os.getcwd()\n",
    "print(updated_dir)"
   ]
  },
  {
   "cell_type": "code",
   "execution_count": 5,
   "id": "3fe88b6d",
   "metadata": {},
   "outputs": [
    {
     "name": "stdout",
     "output_type": "stream",
     "text": [
      "Name, Age, Gender, BloodPressure, Temperature\n",
      "John Doe, 45, Male, 120/80, 36.8\n",
      "Jane Smith, 32, Female, 130/85, 37.2\n",
      "Alice Johnson, 50, Female, 140/90, 36.5\n",
      "Michael Brown, 55, Male, 135/82, 37.0\n",
      "Emily Wilson, 40, Female, 125/78, 36.9\n"
     ]
    }
   ],
   "source": [
    "file_path = 'Week13Assignment.txt'\n",
    "\n",
    "try:\n",
    "    with open(file_path, 'r') as file:\n",
    "        content = file.read()\n",
    "        print(content)\n",
    "except FileNotFoundError:\n",
    "    print(f\"File '{file_path}' not found.\")\n",
    "except IOError:\n",
    "    print(\"An error occured while reading the file.\")"
   ]
  },
  {
   "cell_type": "code",
   "execution_count": 6,
   "id": "2df5a7a2",
   "metadata": {},
   "outputs": [],
   "source": [
    "# average age of patients\n",
    "df = pd.read_csv(file_path)"
   ]
  },
  {
   "cell_type": "code",
   "execution_count": 7,
   "id": "0df3b6ff",
   "metadata": {},
   "outputs": [
    {
     "name": "stdout",
     "output_type": "stream",
     "text": [
      "            Name   Age   Gender  BloodPressure   Temperature\n",
      "0       John Doe    45     Male         120/80          36.8\n",
      "1     Jane Smith    32   Female         130/85          37.2\n",
      "2  Alice Johnson    50   Female         140/90          36.5\n",
      "3  Michael Brown    55     Male         135/82          37.0\n",
      "4   Emily Wilson    40   Female         125/78          36.9\n"
     ]
    }
   ],
   "source": [
    "print(df)"
   ]
  },
  {
   "cell_type": "code",
   "execution_count": 8,
   "id": "ab05b7fa",
   "metadata": {},
   "outputs": [
    {
     "name": "stdout",
     "output_type": "stream",
     "text": [
      "Index(['Name', ' Age', ' Gender', ' BloodPressure', ' Temperature'], dtype='object')\n"
     ]
    }
   ],
   "source": [
    "print(df.columns)"
   ]
  },
  {
   "cell_type": "code",
   "execution_count": 9,
   "id": "2bc85e8d",
   "metadata": {},
   "outputs": [
    {
     "name": "stdout",
     "output_type": "stream",
     "text": [
      "44.4\n"
     ]
    }
   ],
   "source": [
    "# average age\n",
    "average_age = df[' Age'].mean()\n",
    "print(average_age)"
   ]
  },
  {
   "cell_type": "code",
   "execution_count": 10,
   "id": "8f6e0a5b",
   "metadata": {},
   "outputs": [
    {
     "name": "stdout",
     "output_type": "stream",
     "text": [
      "The number of male patients is 2\n",
      "The number of female patients is 3\n"
     ]
    }
   ],
   "source": [
    "# number of male and female patients\n",
    "male = (df[' Gender'] == ' Male').sum()\n",
    "female = (df[' Gender'] == ' Female').sum()\n",
    "print(f'The number of male patients is {male}\\nThe number of female patients is {female}')"
   ]
  },
  {
   "cell_type": "code",
   "execution_count": 12,
   "id": "f8c08312",
   "metadata": {},
   "outputs": [
    {
     "name": "stdout",
     "output_type": "stream",
     "text": [
      "The highest blood pressure is 140/90\n"
     ]
    }
   ],
   "source": [
    "# get the highest blood pressure\n",
    "max_bp = max(df[' BloodPressure'])\n",
    "print(f'The highest blood pressure is{max_bp}')"
   ]
  },
  {
   "cell_type": "code",
   "execution_count": 13,
   "id": "514f972a",
   "metadata": {},
   "outputs": [
    {
     "name": "stdout",
     "output_type": "stream",
     "text": [
      "The lowest blood pressure is 120/80\n"
     ]
    }
   ],
   "source": [
    "# lowest blood pressure\n",
    "min_bp = min(df[' BloodPressure'])\n",
    "print(f'The lowest blood pressure is{min_bp}')"
   ]
  },
  {
   "cell_type": "code",
   "execution_count": 14,
   "id": "f1bf98b5",
   "metadata": {},
   "outputs": [
    {
     "name": "stdout",
     "output_type": "stream",
     "text": [
      "The average temperature is 36.88\n"
     ]
    }
   ],
   "source": [
    "# average temp\n",
    "avg_temp = df[' Temperature'].mean()\n",
    "print(f'The average temperature is {avg_temp}')"
   ]
  },
  {
   "cell_type": "code",
   "execution_count": null,
   "id": "c723d114",
   "metadata": {},
   "outputs": [],
   "source": []
  }
 ],
 "metadata": {
  "kernelspec": {
   "display_name": "Python 3 (ipykernel)",
   "language": "python",
   "name": "python3"
  },
  "language_info": {
   "codemirror_mode": {
    "name": "ipython",
    "version": 3
   },
   "file_extension": ".py",
   "mimetype": "text/x-python",
   "name": "python",
   "nbconvert_exporter": "python",
   "pygments_lexer": "ipython3",
   "version": "3.10.9"
  }
 },
 "nbformat": 4,
 "nbformat_minor": 5
}
